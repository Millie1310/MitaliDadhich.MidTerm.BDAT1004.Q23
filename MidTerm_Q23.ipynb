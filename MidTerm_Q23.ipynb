{
 "cells": [
  {
   "cell_type": "markdown",
   "id": "8bb5f5ec",
   "metadata": {},
   "source": [
    "## Question 23"
   ]
  },
  {
   "cell_type": "code",
   "execution_count": 3,
   "id": "e4c14b19",
   "metadata": {},
   "outputs": [],
   "source": [
    "def tough(indentation, stars):\n",
    "    if stars == 0:\n",
    "        return        \n",
    "    else:\n",
    "        tough(indentation, stars - 1)\n",
    "        print(' ' * indentation + '*' * stars)\n",
    "        if stars > 1:\n",
    "            tough(indentation + stars - 2, stars - 2)"
   ]
  },
  {
   "cell_type": "code",
   "execution_count": 4,
   "id": "2a449e9e",
   "metadata": {},
   "outputs": [
    {
     "name": "stdout",
     "output_type": "stream",
     "text": [
      "*\n",
      "**\n",
      "***\n",
      " *\n",
      "****\n",
      "  *\n",
      "  **\n"
     ]
    }
   ],
   "source": [
    "\n",
    "tough(0,4)"
   ]
  }
 ],
 "metadata": {
  "kernelspec": {
   "display_name": "Python 3 (ipykernel)",
   "language": "python",
   "name": "python3"
  },
  "language_info": {
   "codemirror_mode": {
    "name": "ipython",
    "version": 3
   },
   "file_extension": ".py",
   "mimetype": "text/x-python",
   "name": "python",
   "nbconvert_exporter": "python",
   "pygments_lexer": "ipython3",
   "version": "3.11.4"
  }
 },
 "nbformat": 4,
 "nbformat_minor": 5
}
